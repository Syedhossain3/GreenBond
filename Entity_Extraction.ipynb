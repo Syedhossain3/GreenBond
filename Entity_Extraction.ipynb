{
 "cells": [
  {
   "cell_type": "code",
   "execution_count": 1,
   "id": "c751e35c-f849-4bb2-aa90-12ab446baf55",
   "metadata": {},
   "outputs": [],
   "source": [
    "# pip install tesseract\n",
    "# pip install tesseract-ocr\n",
    "# pip install tesseract-ocr\n",
    "# pip install pytesseract\n",
    "# pip install pytesseract"
   ]
  },
  {
   "cell_type": "code",
   "execution_count": 2,
   "id": "3950796f-31e3-4190-9c30-e544d4312459",
   "metadata": {},
   "outputs": [],
   "source": [
    "import pytesseract\n",
    "from pdf2image import convert_from_path\n",
    "from PyPDF2 import PdfFileReader\n",
    "import glob\n",
    "import pandas as pd\n",
    "import plotly.express as px\n",
    "import os\n",
    "from tqdm import tqdm\n",
    "from PIL import Image\n",
    "pytesseract.pytesseract.tesseract_cmd = r'C:\\Program Files\\Tesseract-OCR/tesseract.exe'"
   ]
  },
  {
   "cell_type": "code",
   "execution_count": 3,
   "id": "7103082d-6dfb-4645-baca-7b68051c7127",
   "metadata": {},
   "outputs": [
    {
     "data": {
      "text/plain": [
       "['C:\\\\Green_Bond\\\\pdf\\\\US.pdf.pdf',\n",
       " 'C:\\\\Green_Bond\\\\pdf\\\\US_Sustainability Bonds Issuers_whirlpool_External%20Review%20Report.pdf',\n",
       " 'C:\\\\Green_Bond\\\\pdf\\\\US_Sustainability-Linked Bonds Iss_Analog%20Devices%20external%20review%20report%202021.pdf']"
      ]
     },
     "execution_count": 3,
     "metadata": {},
     "output_type": "execute_result"
    }
   ],
   "source": [
    "pdf_files = []\n",
    "# get all the pdf files from the directory\n",
    "for file in glob.glob(r'C:\\Green_Bond\\pdf\\*'):\n",
    "    pdf_files.append(file)\n",
    "pdf_files"
   ]
  },
  {
   "cell_type": "code",
   "execution_count": 4,
   "id": "8ce58cfa-f57b-4bb1-b2ed-0111dee32918",
   "metadata": {},
   "outputs": [],
   "source": [
    "# to get all the texts of a paper\n",
    "def get_paper_text(path):\n",
    "    # convert PDF to images\n",
    "    images = convert_from_path(path,500,poppler_path=r'C:\\poppler-24.07.0\\Library\\bin')\n",
    "    # create a string to store texts of the whole paper\n",
    "    whole_paper = ''\n",
    "    # iterate each page\n",
    "    for i in range(len(images)):        \n",
    "        page_content = pytesseract.image_to_string(images[i])\n",
    "        whole_paper = whole_paper + ' ' + page_content\n",
    "    return whole_paper"
   ]
  },
  {
   "cell_type": "code",
   "execution_count": 5,
   "id": "e249c8bd-6f16-497f-991c-7131117c4eb6",
   "metadata": {},
   "outputs": [],
   "source": [
    "# to extract sentences containg the word \"data\"\n",
    "def sentences_containing_data(whole_paper):\n",
    "    sentences = whole_paper.split(\".\")\n",
    "    sentences_contain_data = []\n",
    "    for sentence in sentences:\n",
    "        if 'data' in sentence or 'dataset' in sentence:\n",
    "            sentences_contain_data.append(sentence)\n",
    "    return sentences_contain_data"
   ]
  },
  {
   "cell_type": "code",
   "execution_count": 6,
   "id": "3524ccb0-db78-4e13-8241-af6661dfa3d0",
   "metadata": {},
   "outputs": [],
   "source": [
    "# define different data sources and data types\n",
    "data_sources = ['questionnaire','interview','survey','census','focus group',\n",
    "'FAO', 'FAOSTAT', 'Food and Agriculture organization of the United Nations',\n",
    "'UN', 'United Nations',\n",
    "'SDSN', 'Sustainable Development Solutions Network',\n",
    "'UNESCO', 'United Nations Educational, Scientific and Cultural Organization',\n",
    "'Eurostat',\n",
    "'EDGAR', 'Emissions Database for Global Atmospheric Research',\n",
    "'Copernicus',\n",
    "'ESDAC', 'ES-DAC', 'European Soil Data Center',\n",
    "'World Bank',\n",
    "'Freedom House',\n",
    "'IEA', 'International Energy Agency',\n",
    "'OECD', 'Organisation for Economic Co-operation and Development',\n",
    "'IMF', 'International Monetary Fund',\n",
    "'Global Carbon Atlas',\n",
    "'Global Footprint Network',\n",
    "'SESRIC', 'Statistical, Economic, and Social Research and Training Center for Islamic Countries',\n",
    "'BP Statistical Review of World Energy',\n",
    "'ADB', 'Asian Development Bank',\n",
    "'WHO', 'World Health Organization',\n",
    "'World Pop',\n",
    "'GADM', 'Global Administrative Areas',\n",
    "'Rosstat', 'Federation Federal State Statistics Service',\n",
    "'General Statistics Office',\n",
    "'Central Statistical Office',\n",
    "'National Institute of Statistics',\n",
    "'DOSM', 'Department of Statistics Malaysia',\n",
    "'National Bureau of Statistics of Tanzania',\n",
    "'Ministry of Education and Science of Ukraine',\n",
    "'BGR', 'Federal Institute for Geosciences and Natural Resources',\n",
    "'NPC', 'National Planning Commission',\n",
    "'ANPM', 'National Environmental Protection Agency',\n",
    "'EIA', 'Energy Information Administration',\n",
    "'MDTCC', 'Ministry of Domestic Trade Co-operatives and Consumerism',\n",
    "'NOAA', 'National Oceanic and Atmospheric Administration',\n",
    "'NASA', 'National Aeronautics and Space Administration',\n",
    "'weather','sensor','sensing',\n",
    "'mineral','water','land','electricity','biomass','solar','heat',\n",
    "'satellite imagery','GPS','GIS','OpenStreetMap', 'OSM']\n"
   ]
  },
  {
   "cell_type": "code",
   "execution_count": 7,
   "id": "300e749a-9ed3-46b1-9928-a74f071cbcc0",
   "metadata": {},
   "outputs": [],
   "source": [
    "# identify all the defined data sources from a sentence\n",
    "def categorise(sentence):\n",
    "    sources = []\n",
    "    sources_string = ''\n",
    "    for key in data_sources:\n",
    "        if key in sentence and key not in sources:\n",
    "            sources.append(key)\n",
    "    sources_string = ','.join(sources)\n",
    "    return sources_string"
   ]
  },
  {
   "cell_type": "code",
   "execution_count": 8,
   "id": "77ec85e2-7782-4a3c-9096-4fa2001ab4a7",
   "metadata": {},
   "outputs": [],
   "source": [
    "# to get the paper title from pdf metadata\n",
    "def get_paper_title(path):\n",
    "    pdfFile = open(path, 'rb')\n",
    "    # create PDFFileReader object to read the file\n",
    "    pdfReader = PdfFileReader(pdfFile)\n",
    "    title = str(pdfReader.getDocumentInfo().title)\n",
    "    # close the PDF file object\n",
    "    pdfFile.close()\n",
    "    return title\n",
    "\n",
    "# to get the paper title from pdf name\n",
    "def get_paper_title2(filepath):\n",
    "    title_without_extension = os.path.splitext(os.path.basename(filepath))[0]\n",
    "    return title_without_extension"
   ]
  },
  {
   "cell_type": "code",
   "execution_count": 9,
   "id": "65a20139-353b-41b6-a523-738043861cc4",
   "metadata": {},
   "outputs": [],
   "source": [
    "# set for your own system depending on where tesseract is installed\n",
    "pytesseract.pytesseract.tesseract_cmd = r'tesseract'"
   ]
  },
  {
   "cell_type": "code",
   "execution_count": 10,
   "id": "3a16475c-d073-4b30-b145-01f57a7cb072",
   "metadata": {},
   "outputs": [
    {
     "name": "stderr",
     "output_type": "stream",
     "text": [
      "  0%|                                                                                            | 0/3 [01:14<?, ?it/s]\n"
     ]
    },
    {
     "ename": "TesseractNotFoundError",
     "evalue": "tesseract is not installed or it's not in your PATH. See README file for more information.",
     "output_type": "error",
     "traceback": [
      "\u001b[1;31m---------------------------------------------------------------------------\u001b[0m",
      "\u001b[1;31mFileNotFoundError\u001b[0m                         Traceback (most recent call last)",
      "File \u001b[1;32mC:\\HomeDev\\Lib\\site-packages\\pytesseract\\pytesseract.py:275\u001b[0m, in \u001b[0;36mrun_tesseract\u001b[1;34m(input_filename, output_filename_base, extension, lang, config, nice, timeout)\u001b[0m\n\u001b[0;32m    274\u001b[0m \u001b[38;5;28;01mtry\u001b[39;00m:\n\u001b[1;32m--> 275\u001b[0m     proc \u001b[38;5;241m=\u001b[39m subprocess\u001b[38;5;241m.\u001b[39mPopen(cmd_args, \u001b[38;5;241m*\u001b[39m\u001b[38;5;241m*\u001b[39msubprocess_args())\n\u001b[0;32m    276\u001b[0m \u001b[38;5;28;01mexcept\u001b[39;00m \u001b[38;5;167;01mOSError\u001b[39;00m \u001b[38;5;28;01mas\u001b[39;00m e:\n",
      "File \u001b[1;32mC:\\HomeDev\\Lib\\subprocess.py:1026\u001b[0m, in \u001b[0;36mPopen.__init__\u001b[1;34m(self, args, bufsize, executable, stdin, stdout, stderr, preexec_fn, close_fds, shell, cwd, env, universal_newlines, startupinfo, creationflags, restore_signals, start_new_session, pass_fds, user, group, extra_groups, encoding, errors, text, umask, pipesize, process_group)\u001b[0m\n\u001b[0;32m   1023\u001b[0m             \u001b[38;5;28mself\u001b[39m\u001b[38;5;241m.\u001b[39mstderr \u001b[38;5;241m=\u001b[39m io\u001b[38;5;241m.\u001b[39mTextIOWrapper(\u001b[38;5;28mself\u001b[39m\u001b[38;5;241m.\u001b[39mstderr,\n\u001b[0;32m   1024\u001b[0m                     encoding\u001b[38;5;241m=\u001b[39mencoding, errors\u001b[38;5;241m=\u001b[39merrors)\n\u001b[1;32m-> 1026\u001b[0m     \u001b[38;5;28mself\u001b[39m\u001b[38;5;241m.\u001b[39m_execute_child(args, executable, preexec_fn, close_fds,\n\u001b[0;32m   1027\u001b[0m                         pass_fds, cwd, env,\n\u001b[0;32m   1028\u001b[0m                         startupinfo, creationflags, shell,\n\u001b[0;32m   1029\u001b[0m                         p2cread, p2cwrite,\n\u001b[0;32m   1030\u001b[0m                         c2pread, c2pwrite,\n\u001b[0;32m   1031\u001b[0m                         errread, errwrite,\n\u001b[0;32m   1032\u001b[0m                         restore_signals,\n\u001b[0;32m   1033\u001b[0m                         gid, gids, uid, umask,\n\u001b[0;32m   1034\u001b[0m                         start_new_session, process_group)\n\u001b[0;32m   1035\u001b[0m \u001b[38;5;28;01mexcept\u001b[39;00m:\n\u001b[0;32m   1036\u001b[0m     \u001b[38;5;66;03m# Cleanup if the child failed starting.\u001b[39;00m\n",
      "File \u001b[1;32mC:\\HomeDev\\Lib\\subprocess.py:1538\u001b[0m, in \u001b[0;36mPopen._execute_child\u001b[1;34m(self, args, executable, preexec_fn, close_fds, pass_fds, cwd, env, startupinfo, creationflags, shell, p2cread, p2cwrite, c2pread, c2pwrite, errread, errwrite, unused_restore_signals, unused_gid, unused_gids, unused_uid, unused_umask, unused_start_new_session, unused_process_group)\u001b[0m\n\u001b[0;32m   1537\u001b[0m \u001b[38;5;28;01mtry\u001b[39;00m:\n\u001b[1;32m-> 1538\u001b[0m     hp, ht, pid, tid \u001b[38;5;241m=\u001b[39m _winapi\u001b[38;5;241m.\u001b[39mCreateProcess(executable, args,\n\u001b[0;32m   1539\u001b[0m                              \u001b[38;5;66;03m# no special security\u001b[39;00m\n\u001b[0;32m   1540\u001b[0m                              \u001b[38;5;28;01mNone\u001b[39;00m, \u001b[38;5;28;01mNone\u001b[39;00m,\n\u001b[0;32m   1541\u001b[0m                              \u001b[38;5;28mint\u001b[39m(\u001b[38;5;129;01mnot\u001b[39;00m close_fds),\n\u001b[0;32m   1542\u001b[0m                              creationflags,\n\u001b[0;32m   1543\u001b[0m                              env,\n\u001b[0;32m   1544\u001b[0m                              cwd,\n\u001b[0;32m   1545\u001b[0m                              startupinfo)\n\u001b[0;32m   1546\u001b[0m \u001b[38;5;28;01mfinally\u001b[39;00m:\n\u001b[0;32m   1547\u001b[0m     \u001b[38;5;66;03m# Child is launched. Close the parent's copy of those pipe\u001b[39;00m\n\u001b[0;32m   1548\u001b[0m     \u001b[38;5;66;03m# handles that only the child should have open.  You need\u001b[39;00m\n\u001b[1;32m   (...)\u001b[0m\n\u001b[0;32m   1551\u001b[0m     \u001b[38;5;66;03m# pipe will not close when the child process exits and the\u001b[39;00m\n\u001b[0;32m   1552\u001b[0m     \u001b[38;5;66;03m# ReadFile will hang.\u001b[39;00m\n",
      "\u001b[1;31mFileNotFoundError\u001b[0m: [WinError 2] The system cannot find the file specified",
      "\nDuring handling of the above exception, another exception occurred:\n",
      "\u001b[1;31mTesseractNotFoundError\u001b[0m                    Traceback (most recent call last)",
      "Cell \u001b[1;32mIn[10], line 3\u001b[0m\n\u001b[0;32m      1\u001b[0m paper_tables \u001b[38;5;241m=\u001b[39m []\n\u001b[0;32m      2\u001b[0m \u001b[38;5;28;01mfor\u001b[39;00m file_name \u001b[38;5;129;01min\u001b[39;00m tqdm(pdf_files):\n\u001b[1;32m----> 3\u001b[0m     paper_text \u001b[38;5;241m=\u001b[39m get_paper_text(file_name)\n\u001b[0;32m      4\u001b[0m     key_sentences \u001b[38;5;241m=\u001b[39m sentences_containing_data(paper_text)\n\u001b[0;32m      5\u001b[0m     \u001b[38;5;66;03m# create a table to store the sentences containg the word \"data\"\u001b[39;00m\n",
      "Cell \u001b[1;32mIn[4], line 9\u001b[0m, in \u001b[0;36mget_paper_text\u001b[1;34m(path)\u001b[0m\n\u001b[0;32m      7\u001b[0m \u001b[38;5;66;03m# iterate each page\u001b[39;00m\n\u001b[0;32m      8\u001b[0m \u001b[38;5;28;01mfor\u001b[39;00m i \u001b[38;5;129;01min\u001b[39;00m \u001b[38;5;28mrange\u001b[39m(\u001b[38;5;28mlen\u001b[39m(images)):        \n\u001b[1;32m----> 9\u001b[0m     page_content \u001b[38;5;241m=\u001b[39m pytesseract\u001b[38;5;241m.\u001b[39mimage_to_string(images[i])\n\u001b[0;32m     10\u001b[0m     whole_paper \u001b[38;5;241m=\u001b[39m whole_paper \u001b[38;5;241m+\u001b[39m \u001b[38;5;124m'\u001b[39m\u001b[38;5;124m \u001b[39m\u001b[38;5;124m'\u001b[39m \u001b[38;5;241m+\u001b[39m page_content\n\u001b[0;32m     11\u001b[0m \u001b[38;5;28;01mreturn\u001b[39;00m whole_paper\n",
      "File \u001b[1;32mC:\\HomeDev\\Lib\\site-packages\\pytesseract\\pytesseract.py:486\u001b[0m, in \u001b[0;36mimage_to_string\u001b[1;34m(image, lang, config, nice, output_type, timeout)\u001b[0m\n\u001b[0;32m    481\u001b[0m \u001b[38;5;250m\u001b[39m\u001b[38;5;124;03m\"\"\"\u001b[39;00m\n\u001b[0;32m    482\u001b[0m \u001b[38;5;124;03mReturns the result of a Tesseract OCR run on the provided image to string\u001b[39;00m\n\u001b[0;32m    483\u001b[0m \u001b[38;5;124;03m\"\"\"\u001b[39;00m\n\u001b[0;32m    484\u001b[0m args \u001b[38;5;241m=\u001b[39m [image, \u001b[38;5;124m'\u001b[39m\u001b[38;5;124mtxt\u001b[39m\u001b[38;5;124m'\u001b[39m, lang, config, nice, timeout]\n\u001b[1;32m--> 486\u001b[0m \u001b[38;5;28;01mreturn\u001b[39;00m {\n\u001b[0;32m    487\u001b[0m     Output\u001b[38;5;241m.\u001b[39mBYTES: \u001b[38;5;28;01mlambda\u001b[39;00m: run_and_get_output(\u001b[38;5;241m*\u001b[39m(args \u001b[38;5;241m+\u001b[39m [\u001b[38;5;28;01mTrue\u001b[39;00m])),\n\u001b[0;32m    488\u001b[0m     Output\u001b[38;5;241m.\u001b[39mDICT: \u001b[38;5;28;01mlambda\u001b[39;00m: {\u001b[38;5;124m'\u001b[39m\u001b[38;5;124mtext\u001b[39m\u001b[38;5;124m'\u001b[39m: run_and_get_output(\u001b[38;5;241m*\u001b[39margs)},\n\u001b[0;32m    489\u001b[0m     Output\u001b[38;5;241m.\u001b[39mSTRING: \u001b[38;5;28;01mlambda\u001b[39;00m: run_and_get_output(\u001b[38;5;241m*\u001b[39margs),\n\u001b[0;32m    490\u001b[0m }[output_type]()\n",
      "File \u001b[1;32mC:\\HomeDev\\Lib\\site-packages\\pytesseract\\pytesseract.py:489\u001b[0m, in \u001b[0;36mimage_to_string.<locals>.<lambda>\u001b[1;34m()\u001b[0m\n\u001b[0;32m    481\u001b[0m \u001b[38;5;250m\u001b[39m\u001b[38;5;124;03m\"\"\"\u001b[39;00m\n\u001b[0;32m    482\u001b[0m \u001b[38;5;124;03mReturns the result of a Tesseract OCR run on the provided image to string\u001b[39;00m\n\u001b[0;32m    483\u001b[0m \u001b[38;5;124;03m\"\"\"\u001b[39;00m\n\u001b[0;32m    484\u001b[0m args \u001b[38;5;241m=\u001b[39m [image, \u001b[38;5;124m'\u001b[39m\u001b[38;5;124mtxt\u001b[39m\u001b[38;5;124m'\u001b[39m, lang, config, nice, timeout]\n\u001b[0;32m    486\u001b[0m \u001b[38;5;28;01mreturn\u001b[39;00m {\n\u001b[0;32m    487\u001b[0m     Output\u001b[38;5;241m.\u001b[39mBYTES: \u001b[38;5;28;01mlambda\u001b[39;00m: run_and_get_output(\u001b[38;5;241m*\u001b[39m(args \u001b[38;5;241m+\u001b[39m [\u001b[38;5;28;01mTrue\u001b[39;00m])),\n\u001b[0;32m    488\u001b[0m     Output\u001b[38;5;241m.\u001b[39mDICT: \u001b[38;5;28;01mlambda\u001b[39;00m: {\u001b[38;5;124m'\u001b[39m\u001b[38;5;124mtext\u001b[39m\u001b[38;5;124m'\u001b[39m: run_and_get_output(\u001b[38;5;241m*\u001b[39margs)},\n\u001b[1;32m--> 489\u001b[0m     Output\u001b[38;5;241m.\u001b[39mSTRING: \u001b[38;5;28;01mlambda\u001b[39;00m: run_and_get_output(\u001b[38;5;241m*\u001b[39margs),\n\u001b[0;32m    490\u001b[0m }[output_type]()\n",
      "File \u001b[1;32mC:\\HomeDev\\Lib\\site-packages\\pytesseract\\pytesseract.py:352\u001b[0m, in \u001b[0;36mrun_and_get_output\u001b[1;34m(image, extension, lang, config, nice, timeout, return_bytes)\u001b[0m\n\u001b[0;32m    341\u001b[0m \u001b[38;5;28;01mwith\u001b[39;00m save(image) \u001b[38;5;28;01mas\u001b[39;00m (temp_name, input_filename):\n\u001b[0;32m    342\u001b[0m     kwargs \u001b[38;5;241m=\u001b[39m {\n\u001b[0;32m    343\u001b[0m         \u001b[38;5;124m'\u001b[39m\u001b[38;5;124minput_filename\u001b[39m\u001b[38;5;124m'\u001b[39m: input_filename,\n\u001b[0;32m    344\u001b[0m         \u001b[38;5;124m'\u001b[39m\u001b[38;5;124moutput_filename_base\u001b[39m\u001b[38;5;124m'\u001b[39m: temp_name,\n\u001b[1;32m   (...)\u001b[0m\n\u001b[0;32m    349\u001b[0m         \u001b[38;5;124m'\u001b[39m\u001b[38;5;124mtimeout\u001b[39m\u001b[38;5;124m'\u001b[39m: timeout,\n\u001b[0;32m    350\u001b[0m     }\n\u001b[1;32m--> 352\u001b[0m     run_tesseract(\u001b[38;5;241m*\u001b[39m\u001b[38;5;241m*\u001b[39mkwargs)\n\u001b[0;32m    353\u001b[0m     \u001b[38;5;28;01mreturn\u001b[39;00m _read_output(\n\u001b[0;32m    354\u001b[0m         \u001b[38;5;124mf\u001b[39m\u001b[38;5;124m\"\u001b[39m\u001b[38;5;132;01m{\u001b[39;00mkwargs[\u001b[38;5;124m'\u001b[39m\u001b[38;5;124moutput_filename_base\u001b[39m\u001b[38;5;124m'\u001b[39m]\u001b[38;5;132;01m}\u001b[39;00m\u001b[38;5;132;01m{\u001b[39;00mextsep\u001b[38;5;132;01m}\u001b[39;00m\u001b[38;5;132;01m{\u001b[39;00mextension\u001b[38;5;132;01m}\u001b[39;00m\u001b[38;5;124m\"\u001b[39m,\n\u001b[0;32m    355\u001b[0m         return_bytes,\n\u001b[0;32m    356\u001b[0m     )\n",
      "File \u001b[1;32mC:\\HomeDev\\Lib\\site-packages\\pytesseract\\pytesseract.py:280\u001b[0m, in \u001b[0;36mrun_tesseract\u001b[1;34m(input_filename, output_filename_base, extension, lang, config, nice, timeout)\u001b[0m\n\u001b[0;32m    278\u001b[0m         \u001b[38;5;28;01mraise\u001b[39;00m\n\u001b[0;32m    279\u001b[0m     \u001b[38;5;28;01melse\u001b[39;00m:\n\u001b[1;32m--> 280\u001b[0m         \u001b[38;5;28;01mraise\u001b[39;00m TesseractNotFoundError()\n\u001b[0;32m    282\u001b[0m \u001b[38;5;28;01mwith\u001b[39;00m timeout_manager(proc, timeout) \u001b[38;5;28;01mas\u001b[39;00m error_string:\n\u001b[0;32m    283\u001b[0m     \u001b[38;5;28;01mif\u001b[39;00m proc\u001b[38;5;241m.\u001b[39mreturncode:\n",
      "\u001b[1;31mTesseractNotFoundError\u001b[0m: tesseract is not installed or it's not in your PATH. See README file for more information."
     ]
    }
   ],
   "source": [
    "paper_tables = []\n",
    "for file_name in tqdm(pdf_files):\n",
    "    paper_text = get_paper_text(file_name)\n",
    "    key_sentences = sentences_containing_data(paper_text)\n",
    "    # create a table to store the sentences containg the word \"data\"\n",
    "    data_table = pd.DataFrame({\"Sentence\": key_sentences})\n",
    "    data_types = data_table['Sentence'].apply(categrize)\n",
    "    # add a column to store the data type or database\n",
    "    data_table['Data'] = data_types\n",
    "    # filter out sentences without mentioning any data type or database\n",
    "    data_table = data_table[data_table.Data.notnull()]\n",
    "    # add a column to store the paper title\n",
    "    paper_title = get_paper_title2(file_name)    \n",
    "    data_table.insert(0, 'title', paper_title)\n",
    "    paper_tables.append(data_table)"
   ]
  },
  {
   "cell_type": "code",
   "execution_count": null,
   "id": "687752b3-194d-4f8e-b8d5-0f833a3e22bb",
   "metadata": {},
   "outputs": [],
   "source": [
    "# combine tables for different papers\n",
    "large_paper_table = pd.concat(paper_tables, axis=0)\n",
    "large_paper_table = large_paper_table[large_paper_table.Data != '']\n",
    "large_paper_table"
   ]
  },
  {
   "cell_type": "code",
   "execution_count": null,
   "id": "5c2f86b9-2539-4d9c-9f2b-9163d41fe3c5",
   "metadata": {},
   "outputs": [],
   "source": [
    "# checkpoint save the table to an excel sheet\n",
    "# large_paper_table.to_excel(r'../data/sdg7-coding-auto.xlsx',index = False)"
   ]
  }
 ],
 "metadata": {
  "kernelspec": {
   "display_name": "Python 3 (ipykernel)",
   "language": "python",
   "name": "python3"
  },
  "language_info": {
   "codemirror_mode": {
    "name": "ipython",
    "version": 3
   },
   "file_extension": ".py",
   "mimetype": "text/x-python",
   "name": "python",
   "nbconvert_exporter": "python",
   "pygments_lexer": "ipython3",
   "version": "3.12.4"
  }
 },
 "nbformat": 4,
 "nbformat_minor": 5
}
