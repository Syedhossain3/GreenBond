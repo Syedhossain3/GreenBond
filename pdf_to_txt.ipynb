{
 "cells": [
  {
   "cell_type": "code",
   "execution_count": 1,
   "id": "795fc5ed",
   "metadata": {},
   "outputs": [],
   "source": [
    "# pip install read_pdf_table"
   ]
  },
  {
   "cell_type": "code",
   "execution_count": 2,
   "id": "f64d6171",
   "metadata": {},
   "outputs": [],
   "source": [
    "import io\n",
    "import requests\n",
    "import openpyxl\n",
    "import os,sys\n",
    "import pandas as pd\n",
    "import numpy as np\n",
    "import csv\n",
    "import PyPDF2\n",
    "\n",
    "from pdfminer.pdfinterp import PDFResourceManager, PDFPageInterpreter\n",
    "from pdfminer.converter import TextConverter\n",
    "from pdfminer.layout import LAParams\n",
    "from pdfminer.pdfpage import PDFPage"
   ]
  },
  {
   "cell_type": "code",
   "execution_count": 3,
   "id": "a7e787f4",
   "metadata": {},
   "outputs": [
    {
     "name": "stdout",
     "output_type": "stream",
     "text": [
      "C:\\Users\\a045796\n",
      "S:\\IFI Applications\\Green_Bong_Makerfest\n"
     ]
    }
   ],
   "source": [
    "print (os.getcwd())# First go to the required directory\n",
    "os.chdir(\"S:\\IFI Applications\\Green_Bong_Makerfest\" )\n",
    "\n",
    "# Then print current working directory\n",
    "#print (\"Current working dir : %s\" % os.getcwd())\n",
    "print (os.getcwd())"
   ]
  },
  {
   "cell_type": "code",
   "execution_count": 4,
   "id": "d6b1cb97",
   "metadata": {},
   "outputs": [],
   "source": [
    "# os.chdir(\"C:\\Users\\a045796\\Downloads\")"
   ]
  },
  {
   "cell_type": "code",
   "execution_count": 5,
   "id": "46838ae3",
   "metadata": {},
   "outputs": [],
   "source": [
    "#pip install pdfminer.six\n",
    "\n",
    "\n",
    "\n",
    "def convert_pdf_to_txt(path):\n",
    "    '''Convert pdf content from a file path to text\n",
    "\n",
    "    :path the file path\n",
    "    '''\n",
    "    rsrcmgr = PDFResourceManager()\n",
    "    codec = 'utf-8'\n",
    "    laparams = LAParams()\n",
    "\n",
    "    with io.StringIO() as retstr:\n",
    "        with TextConverter(rsrcmgr, retstr, codec=codec,\n",
    "                           laparams=laparams) as device:\n",
    "            with open(path, 'rb') as fp:\n",
    "                interpreter = PDFPageInterpreter(rsrcmgr, device)\n",
    "                password = \"\"\n",
    "                maxpages = 0\n",
    "                caching = True\n",
    "                pagenos = set()\n",
    "\n",
    "                for page in PDFPage.get_pages(fp,\n",
    "                                              pagenos,\n",
    "                                              maxpages=maxpages,\n",
    "                                              password=password,\n",
    "                                              caching=caching,\n",
    "                                              check_extractable=True):\n",
    "                    interpreter.process_page(page)\n",
    "\n",
    "                return retstr.getvalue()\n",
    "\n",
    "\n"
   ]
  },
  {
   "cell_type": "code",
   "execution_count": 6,
   "id": "5c7be7c2",
   "metadata": {},
   "outputs": [],
   "source": [
    "if __name__ == \"__main__\":\n",
    "    for file in os.listdir(\".\"):\n",
    "        try:\n",
    "            if file.endswith(\".pdf\"):\n",
    "                name, ext = file.split('.')\n",
    "                name = convert_pdf_to_txt(file)\n",
    "               # Write the text to a file\n",
    "                with open(file + \".txt\",\"w\" ,encoding=\"utf-8\") as file:\n",
    "                    file.write(name)\n",
    "        except:\n",
    "            pass\n"
   ]
  },
  {
   "cell_type": "code",
   "execution_count": null,
   "id": "2bb29878",
   "metadata": {},
   "outputs": [],
   "source": []
  }
 ],
 "metadata": {
  "kernelspec": {
   "display_name": "Python 3 (ipykernel)",
   "language": "python",
   "name": "python3"
  },
  "language_info": {
   "codemirror_mode": {
    "name": "ipython",
    "version": 3
   },
   "file_extension": ".py",
   "mimetype": "text/x-python",
   "name": "python",
   "nbconvert_exporter": "python",
   "pygments_lexer": "ipython3",
   "version": "3.9.13"
  }
 },
 "nbformat": 4,
 "nbformat_minor": 5
}
